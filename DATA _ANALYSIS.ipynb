{
 "cells": [
  {
   "cell_type": "code",
   "execution_count": 10,
   "id": "fb30a4c6-768c-439c-ace0-9f6da22a1956",
   "metadata": {},
   "outputs": [
    {
     "data": {
      "text/html": [
       "<div>\n",
       "<style scoped>\n",
       "    .dataframe tbody tr th:only-of-type {\n",
       "        vertical-align: middle;\n",
       "    }\n",
       "\n",
       "    .dataframe tbody tr th {\n",
       "        vertical-align: top;\n",
       "    }\n",
       "\n",
       "    .dataframe thead th {\n",
       "        text-align: right;\n",
       "    }\n",
       "</style>\n",
       "<table border=\"1\" class=\"dataframe\">\n",
       "  <thead>\n",
       "    <tr style=\"text-align: right;\">\n",
       "      <th></th>\n",
       "      <th>Soil_Quality</th>\n",
       "      <th>Seed_Variety</th>\n",
       "      <th>Fertilizer_Amount_kg_per_hectare</th>\n",
       "      <th>Sunny_Days</th>\n",
       "      <th>Rainfall_mm</th>\n",
       "      <th>Irrigation_Schedule</th>\n",
       "      <th>Yield_kg_per_hectare</th>\n",
       "    </tr>\n",
       "  </thead>\n",
       "  <tbody>\n",
       "    <tr>\n",
       "      <th>0</th>\n",
       "      <td>93.304721</td>\n",
       "      <td>0</td>\n",
       "      <td>132.522218</td>\n",
       "      <td>96.670922</td>\n",
       "      <td>602.386237</td>\n",
       "      <td>3</td>\n",
       "      <td>278.986563</td>\n",
       "    </tr>\n",
       "    <tr>\n",
       "      <th>1</th>\n",
       "      <td>83.674653</td>\n",
       "      <td>1</td>\n",
       "      <td>57.283997</td>\n",
       "      <td>99.007556</td>\n",
       "      <td>466.518251</td>\n",
       "      <td>8</td>\n",
       "      <td>836.434840</td>\n",
       "    </tr>\n",
       "    <tr>\n",
       "      <th>2</th>\n",
       "      <td>65.963033</td>\n",
       "      <td>1</td>\n",
       "      <td>227.895479</td>\n",
       "      <td>104.844272</td>\n",
       "      <td>510.320495</td>\n",
       "      <td>4</td>\n",
       "      <td>785.881787</td>\n",
       "    </tr>\n",
       "    <tr>\n",
       "      <th>3</th>\n",
       "      <td>78.692834</td>\n",
       "      <td>1</td>\n",
       "      <td>176.314126</td>\n",
       "      <td>90.136191</td>\n",
       "      <td>354.350914</td>\n",
       "      <td>5</td>\n",
       "      <td>807.884526</td>\n",
       "    </tr>\n",
       "    <tr>\n",
       "      <th>4</th>\n",
       "      <td>72.415684</td>\n",
       "      <td>1</td>\n",
       "      <td>160.070418</td>\n",
       "      <td>101.221668</td>\n",
       "      <td>443.993788</td>\n",
       "      <td>10</td>\n",
       "      <td>1064.542374</td>\n",
       "    </tr>\n",
       "  </tbody>\n",
       "</table>\n",
       "</div>"
      ],
      "text/plain": [
       "   Soil_Quality  Seed_Variety  Fertilizer_Amount_kg_per_hectare  Sunny_Days  \\\n",
       "0     93.304721             0                        132.522218   96.670922   \n",
       "1     83.674653             1                         57.283997   99.007556   \n",
       "2     65.963033             1                        227.895479  104.844272   \n",
       "3     78.692834             1                        176.314126   90.136191   \n",
       "4     72.415684             1                        160.070418  101.221668   \n",
       "\n",
       "   Rainfall_mm  Irrigation_Schedule  Yield_kg_per_hectare  \n",
       "0   602.386237                    3            278.986563  \n",
       "1   466.518251                    8            836.434840  \n",
       "2   510.320495                    4            785.881787  \n",
       "3   354.350914                    5            807.884526  \n",
       "4   443.993788                   10           1064.542374  "
      ]
     },
     "execution_count": 10,
     "metadata": {},
     "output_type": "execute_result"
    }
   ],
   "source": [
    "import pandas as pd \n",
    "df = pd.read_csv(\"agricultural_yield.csv\")\n",
    "df.head()"
   ]
  },
  {
   "cell_type": "code",
   "execution_count": 11,
   "id": "a35e5195-d41c-43a1-be73-f66f30a6b939",
   "metadata": {},
   "outputs": [
    {
     "data": {
      "text/plain": [
       "Soil_Quality                         74.924952\n",
       "Seed_Variety                          0.703750\n",
       "Fertilizer_Amount_kg_per_hectare    173.447166\n",
       "Sunny_Days                           99.841525\n",
       "Rainfall_mm                         502.246625\n",
       "Irrigation_Schedule                   4.977500\n",
       "Yield_kg_per_hectare                709.167849\n",
       "dtype: float64"
      ]
     },
     "execution_count": 11,
     "metadata": {},
     "output_type": "execute_result"
    }
   ],
   "source": [
    "df.mean()"
   ]
  },
  {
   "cell_type": "code",
   "execution_count": 12,
   "id": "39d95387-cd69-486a-832f-346a34463835",
   "metadata": {},
   "outputs": [
    {
     "data": {
      "text/plain": [
       "Soil_Quality                         14.496298\n",
       "Seed_Variety                          0.456660\n",
       "Fertilizer_Amount_kg_per_hectare     72.298671\n",
       "Sunny_Days                            9.888547\n",
       "Rainfall_mm                          99.222767\n",
       "Irrigation_Schedule                   2.259816\n",
       "Yield_kg_per_hectare                199.497621\n",
       "dtype: float64"
      ]
     },
     "execution_count": 12,
     "metadata": {},
     "output_type": "execute_result"
    }
   ],
   "source": [
    "df.std()"
   ]
  },
  {
   "cell_type": "code",
   "execution_count": 14,
   "id": "ff29aa29-d6f3-4b44-abc2-9f7fb5f10344",
   "metadata": {},
   "outputs": [
    {
     "data": {
      "text/plain": [
       "Soil_Quality                         74.630855\n",
       "Seed_Variety                          1.000000\n",
       "Fertilizer_Amount_kg_per_hectare    175.596395\n",
       "Sunny_Days                           99.762840\n",
       "Rainfall_mm                         502.877959\n",
       "Irrigation_Schedule                   5.000000\n",
       "Yield_kg_per_hectare                722.532738\n",
       "dtype: float64"
      ]
     },
     "execution_count": 14,
     "metadata": {},
     "output_type": "execute_result"
    }
   ],
   "source": [
    "df.median()"
   ]
  },
  {
   "cell_type": "code",
   "execution_count": 15,
   "id": "17816e6b-c8c9-4b54-aefc-cf924e226e17",
   "metadata": {},
   "outputs": [
    {
     "name": "stdout",
     "output_type": "stream",
     "text": [
      "<class 'pandas.core.frame.DataFrame'>\n",
      "RangeIndex: 4000 entries, 0 to 3999\n",
      "Data columns (total 7 columns):\n",
      " #   Column                            Non-Null Count  Dtype  \n",
      "---  ------                            --------------  -----  \n",
      " 0   Soil_Quality                      4000 non-null   float64\n",
      " 1   Seed_Variety                      4000 non-null   int64  \n",
      " 2   Fertilizer_Amount_kg_per_hectare  4000 non-null   float64\n",
      " 3   Sunny_Days                        4000 non-null   float64\n",
      " 4   Rainfall_mm                       4000 non-null   float64\n",
      " 5   Irrigation_Schedule               4000 non-null   int64  \n",
      " 6   Yield_kg_per_hectare              4000 non-null   float64\n",
      "dtypes: float64(5), int64(2)\n",
      "memory usage: 218.9 KB\n"
     ]
    }
   ],
   "source": [
    "df.info()"
   ]
  },
  {
   "cell_type": "code",
   "execution_count": 16,
   "id": "1ffd039a-bdb6-4615-991b-af062161c17b",
   "metadata": {},
   "outputs": [
    {
     "data": {
      "text/html": [
       "<div>\n",
       "<style scoped>\n",
       "    .dataframe tbody tr th:only-of-type {\n",
       "        vertical-align: middle;\n",
       "    }\n",
       "\n",
       "    .dataframe tbody tr th {\n",
       "        vertical-align: top;\n",
       "    }\n",
       "\n",
       "    .dataframe thead th {\n",
       "        text-align: right;\n",
       "    }\n",
       "</style>\n",
       "<table border=\"1\" class=\"dataframe\">\n",
       "  <thead>\n",
       "    <tr style=\"text-align: right;\">\n",
       "      <th></th>\n",
       "      <th>Soil_Quality</th>\n",
       "      <th>Seed_Variety</th>\n",
       "      <th>Fertilizer_Amount_kg_per_hectare</th>\n",
       "      <th>Sunny_Days</th>\n",
       "      <th>Rainfall_mm</th>\n",
       "      <th>Irrigation_Schedule</th>\n",
       "      <th>Yield_kg_per_hectare</th>\n",
       "    </tr>\n",
       "  </thead>\n",
       "  <tbody>\n",
       "    <tr>\n",
       "      <th>count</th>\n",
       "      <td>4000.000000</td>\n",
       "      <td>4000.00000</td>\n",
       "      <td>4000.000000</td>\n",
       "      <td>4000.000000</td>\n",
       "      <td>4000.000000</td>\n",
       "      <td>4000.000000</td>\n",
       "      <td>4000.000000</td>\n",
       "    </tr>\n",
       "    <tr>\n",
       "      <th>mean</th>\n",
       "      <td>74.924952</td>\n",
       "      <td>0.70375</td>\n",
       "      <td>173.447166</td>\n",
       "      <td>99.841525</td>\n",
       "      <td>502.246625</td>\n",
       "      <td>4.977500</td>\n",
       "      <td>709.167849</td>\n",
       "    </tr>\n",
       "    <tr>\n",
       "      <th>std</th>\n",
       "      <td>14.496298</td>\n",
       "      <td>0.45666</td>\n",
       "      <td>72.298671</td>\n",
       "      <td>9.888547</td>\n",
       "      <td>99.222767</td>\n",
       "      <td>2.259816</td>\n",
       "      <td>199.497621</td>\n",
       "    </tr>\n",
       "    <tr>\n",
       "      <th>min</th>\n",
       "      <td>50.003622</td>\n",
       "      <td>0.00000</td>\n",
       "      <td>50.062655</td>\n",
       "      <td>66.724469</td>\n",
       "      <td>102.007518</td>\n",
       "      <td>0.000000</td>\n",
       "      <td>108.252421</td>\n",
       "    </tr>\n",
       "    <tr>\n",
       "      <th>25%</th>\n",
       "      <td>62.380142</td>\n",
       "      <td>0.00000</td>\n",
       "      <td>108.734463</td>\n",
       "      <td>93.101146</td>\n",
       "      <td>435.810131</td>\n",
       "      <td>3.000000</td>\n",
       "      <td>576.382146</td>\n",
       "    </tr>\n",
       "    <tr>\n",
       "      <th>50%</th>\n",
       "      <td>74.630855</td>\n",
       "      <td>1.00000</td>\n",
       "      <td>175.596395</td>\n",
       "      <td>99.762840</td>\n",
       "      <td>502.877959</td>\n",
       "      <td>5.000000</td>\n",
       "      <td>722.532738</td>\n",
       "    </tr>\n",
       "    <tr>\n",
       "      <th>75%</th>\n",
       "      <td>87.792071</td>\n",
       "      <td>1.00000</td>\n",
       "      <td>235.200606</td>\n",
       "      <td>106.447769</td>\n",
       "      <td>568.249383</td>\n",
       "      <td>6.000000</td>\n",
       "      <td>847.814106</td>\n",
       "    </tr>\n",
       "    <tr>\n",
       "      <th>max</th>\n",
       "      <td>99.998898</td>\n",
       "      <td>1.00000</td>\n",
       "      <td>299.992054</td>\n",
       "      <td>138.520202</td>\n",
       "      <td>876.694217</td>\n",
       "      <td>15.000000</td>\n",
       "      <td>1406.110705</td>\n",
       "    </tr>\n",
       "  </tbody>\n",
       "</table>\n",
       "</div>"
      ],
      "text/plain": [
       "       Soil_Quality  Seed_Variety  Fertilizer_Amount_kg_per_hectare  \\\n",
       "count   4000.000000    4000.00000                       4000.000000   \n",
       "mean      74.924952       0.70375                        173.447166   \n",
       "std       14.496298       0.45666                         72.298671   \n",
       "min       50.003622       0.00000                         50.062655   \n",
       "25%       62.380142       0.00000                        108.734463   \n",
       "50%       74.630855       1.00000                        175.596395   \n",
       "75%       87.792071       1.00000                        235.200606   \n",
       "max       99.998898       1.00000                        299.992054   \n",
       "\n",
       "        Sunny_Days  Rainfall_mm  Irrigation_Schedule  Yield_kg_per_hectare  \n",
       "count  4000.000000  4000.000000          4000.000000           4000.000000  \n",
       "mean     99.841525   502.246625             4.977500            709.167849  \n",
       "std       9.888547    99.222767             2.259816            199.497621  \n",
       "min      66.724469   102.007518             0.000000            108.252421  \n",
       "25%      93.101146   435.810131             3.000000            576.382146  \n",
       "50%      99.762840   502.877959             5.000000            722.532738  \n",
       "75%     106.447769   568.249383             6.000000            847.814106  \n",
       "max     138.520202   876.694217            15.000000           1406.110705  "
      ]
     },
     "execution_count": 16,
     "metadata": {},
     "output_type": "execute_result"
    }
   ],
   "source": [
    "df.describe()"
   ]
  },
  {
   "cell_type": "code",
   "execution_count": 19,
   "id": "0016ff01-48d5-4eeb-8210-1a037c46d7c6",
   "metadata": {},
   "outputs": [
    {
     "name": "stdout",
     "output_type": "stream",
     "text": [
      "      Soil_Quality  Seed_Variety  Fertilizer_Amount_kg_per_hectare  \\\n",
      "0        93.304721             0                        132.522218   \n",
      "1        83.674653             1                         57.283997   \n",
      "2        65.963033             1                        227.895479   \n",
      "3        78.692834             1                        176.314126   \n",
      "4        72.415684             1                        160.070418   \n",
      "...            ...           ...                               ...   \n",
      "3995     95.094714             1                        124.108262   \n",
      "3996     53.256984             0                        100.310322   \n",
      "3997     94.145522             1                        196.473704   \n",
      "3998     61.452120             1                         80.618357   \n",
      "3999     55.195906             0                        122.473239   \n",
      "\n",
      "      Sunny_Days  Rainfall_mm  Irrigation_Schedule  Yield_kg_per_hectare  \n",
      "0      96.670922   602.386237                    3            278.986563  \n",
      "1      99.007556   466.518251                    8            836.434840  \n",
      "2     104.844272   510.320495                    4            785.881787  \n",
      "3      90.136191   354.350914                    5            807.884526  \n",
      "4     101.221668   443.993788                   10           1064.542374  \n",
      "...          ...          ...                  ...                   ...  \n",
      "3995   98.970659   496.705800                    5            802.209345  \n",
      "3996  111.448947   667.056391                    8            509.646540  \n",
      "3997  110.003474   458.241408                    3            776.013634  \n",
      "3998   97.815517   778.652540                    4            502.319484  \n",
      "3999   90.311720   582.999003                    4            257.032544  \n",
      "\n",
      "[4000 rows x 7 columns]\n"
     ]
    }
   ],
   "source": [
    "print(df)"
   ]
  },
  {
   "cell_type": "code",
   "execution_count": 24,
   "id": "f8ee21fb-2081-4e31-88d1-5f83589414f1",
   "metadata": {},
   "outputs": [
    {
     "data": {
      "text/plain": [
       "Soil_Quality                        0\n",
       "Seed_Variety                        0\n",
       "Fertilizer_Amount_kg_per_hectare    0\n",
       "Sunny_Days                          0\n",
       "Rainfall_mm                         0\n",
       "Irrigation_Schedule                 0\n",
       "Yield_kg_per_hectare                0\n",
       "dtype: int64"
      ]
     },
     "execution_count": 24,
     "metadata": {},
     "output_type": "execute_result"
    }
   ],
   "source": [
    "df.isnull().sum()"
   ]
  },
  {
   "cell_type": "code",
   "execution_count": 28,
   "id": "9fc35e3b-4a02-40ef-9097-d0276a542159",
   "metadata": {},
   "outputs": [
    {
     "data": {
      "text/plain": [
       "['Soil_Quality',\n",
       " 'Seed_Variety',\n",
       " 'Fertilizer_Amount_kg_per_hectare',\n",
       " 'Sunny_Days',\n",
       " 'Rainfall_mm',\n",
       " 'Irrigation_Schedule',\n",
       " 'Yield_kg_per_hectare']"
      ]
     },
     "execution_count": 28,
     "metadata": {},
     "output_type": "execute_result"
    }
   ],
   "source": [
    "df.columns.tolist ()"
   ]
  },
  {
   "cell_type": "code",
   "execution_count": 45,
   "id": "e4eedcb4-d483-48f2-ba97-6fcc10af7890",
   "metadata": {},
   "outputs": [
    {
     "data": {
      "text/html": [
       "<div>\n",
       "<style scoped>\n",
       "    .dataframe tbody tr th:only-of-type {\n",
       "        vertical-align: middle;\n",
       "    }\n",
       "\n",
       "    .dataframe tbody tr th {\n",
       "        vertical-align: top;\n",
       "    }\n",
       "\n",
       "    .dataframe thead th {\n",
       "        text-align: right;\n",
       "    }\n",
       "</style>\n",
       "<table border=\"1\" class=\"dataframe\">\n",
       "  <thead>\n",
       "    <tr style=\"text-align: right;\">\n",
       "      <th></th>\n",
       "      <th>Soil_Quality</th>\n",
       "      <th>Seed_Variety</th>\n",
       "      <th>Fertilizer_Amount_kg_per_hectare</th>\n",
       "      <th>Sunny_Days</th>\n",
       "      <th>Rainfall_mm</th>\n",
       "      <th>Irrigation_Schedule</th>\n",
       "      <th>Yield_kg_per_hectare</th>\n",
       "    </tr>\n",
       "  </thead>\n",
       "  <tbody>\n",
       "    <tr>\n",
       "      <th>0</th>\n",
       "      <td>93.304721</td>\n",
       "      <td>0</td>\n",
       "      <td>132.522218</td>\n",
       "      <td>96.670922</td>\n",
       "      <td>602.386237</td>\n",
       "      <td>3</td>\n",
       "      <td>278.986563</td>\n",
       "    </tr>\n",
       "    <tr>\n",
       "      <th>1</th>\n",
       "      <td>83.674653</td>\n",
       "      <td>1</td>\n",
       "      <td>57.283997</td>\n",
       "      <td>99.007556</td>\n",
       "      <td>466.518251</td>\n",
       "      <td>8</td>\n",
       "      <td>836.434840</td>\n",
       "    </tr>\n",
       "    <tr>\n",
       "      <th>2</th>\n",
       "      <td>65.963033</td>\n",
       "      <td>1</td>\n",
       "      <td>227.895479</td>\n",
       "      <td>104.844272</td>\n",
       "      <td>510.320495</td>\n",
       "      <td>4</td>\n",
       "      <td>785.881787</td>\n",
       "    </tr>\n",
       "    <tr>\n",
       "      <th>3</th>\n",
       "      <td>78.692834</td>\n",
       "      <td>1</td>\n",
       "      <td>176.314126</td>\n",
       "      <td>90.136191</td>\n",
       "      <td>354.350914</td>\n",
       "      <td>5</td>\n",
       "      <td>807.884526</td>\n",
       "    </tr>\n",
       "    <tr>\n",
       "      <th>4</th>\n",
       "      <td>72.415684</td>\n",
       "      <td>1</td>\n",
       "      <td>160.070418</td>\n",
       "      <td>101.221668</td>\n",
       "      <td>443.993788</td>\n",
       "      <td>10</td>\n",
       "      <td>1064.542374</td>\n",
       "    </tr>\n",
       "  </tbody>\n",
       "</table>\n",
       "</div>"
      ],
      "text/plain": [
       "   Soil_Quality  Seed_Variety  Fertilizer_Amount_kg_per_hectare  Sunny_Days  \\\n",
       "0     93.304721             0                        132.522218   96.670922   \n",
       "1     83.674653             1                         57.283997   99.007556   \n",
       "2     65.963033             1                        227.895479  104.844272   \n",
       "3     78.692834             1                        176.314126   90.136191   \n",
       "4     72.415684             1                        160.070418  101.221668   \n",
       "\n",
       "   Rainfall_mm  Irrigation_Schedule  Yield_kg_per_hectare  \n",
       "0   602.386237                    3            278.986563  \n",
       "1   466.518251                    8            836.434840  \n",
       "2   510.320495                    4            785.881787  \n",
       "3   354.350914                    5            807.884526  \n",
       "4   443.993788                   10           1064.542374  "
      ]
     },
     "execution_count": 45,
     "metadata": {},
     "output_type": "execute_result"
    }
   ],
   "source": [
    "df.head()"
   ]
  },
  {
   "cell_type": "code",
   "execution_count": 50,
   "id": "744563b7-2886-414e-87d4-eb4ff40f8aa9",
   "metadata": {},
   "outputs": [
    {
     "data": {
      "image/png": "[encoded data removed]",
      "text/plain": [
       "<Figure size 640x480 with 1 Axes>"
      ]
     },
     "metadata": {},
     "output_type": "display_data"
    }
   ],
   "source": [
    "import pandas as pd\n",
    "import matplotlib.pyplot as plt\n",
    "\n",
    "# Sample DataFrame\n",
    "data = {\n",
    "    \"Soil_Quality\": [93.30, 83.67, 65.96, 78.69, 72.41],\n",
    "    \"Yield_kg_per_hectare\": [278.98, 836.43, 785.88, 807.88, 1064.54]\n",
    "}\n",
    "\n",
    "df = pd.DataFrame(data)\n",
    "\n",
    "# Create a linear plot\n",
    "plt.plot(df[\"Soil_Quality\"], df[\"Yield_kg_per_hectare\"], marker='o', linestyle='-', color='b', label=\"Yield vs Soil Quality\")\n",
    "\n",
    "# Add labels and title\n",
    "plt.xlabel(\"Soil Quality\")\n",
    "plt.ylabel(\"Yield (kg per hectare)\")\n",
    "plt.title(\"Linear Graph: Soil Quality vs Yield\")\n",
    "plt.legend()\n",
    "plt.grid()\n",
    "\n",
    "# Show the graph\n",
    "plt.show()\n"
   ]
  },
  {
   "cell_type": "code",
   "execution_count": 44,
   "id": "46920917-1112-42cd-82fb-265be6ba17aa",
   "metadata": {},
   "outputs": [
    {
     "name": "stdout",
     "output_type": "stream",
     "text": [
      "Soil_Quality                        float64\n",
      "Seed_Variety                          int64\n",
      "Fertilizer_Amount_kg_per_hectare    float64\n",
      "Sunny_Days                          float64\n",
      "Rainfall_mm                         float64\n",
      "Irrigation_Schedule                   int64\n",
      "Yield_kg_per_hectare                float64\n",
      "dtype: object\n"
     ]
    }
   ],
   "source": [
    "print(df.dtypes)"
   ]
  },
  {
   "cell_type": "code",
   "execution_count": 49,
   "id": "27555631-2509-4b1f-9a87-d1ae0a765e60",
   "metadata": {},
   "outputs": [
    {
     "name": "stdout",
     "output_type": "stream",
     "text": [
      "0       93.304721\n",
      "1       83.674653\n",
      "2       65.963033\n",
      "3       78.692834\n",
      "4       72.415684\n",
      "          ...    \n",
      "3995    95.094714\n",
      "3996    53.256984\n",
      "3997    94.145522\n",
      "3998    61.452120\n",
      "3999    55.195906\n",
      "Name: Soil_Quality, Length: 4000, dtype: float64\n"
     ]
    }
   ],
   "source": [
    "print(df[\"Soil_Quality\" ])"
   ]
  },
  {
   "cell_type": "code",
   "execution_count": null,
   "id": "ce8a6a90-7b31-4ff4-950c-e13641625d80",
   "metadata": {},
   "outputs": [],
   "source": []
  }
 ],
 "metadata": {
  "kernelspec": {
   "display_name": "Python 3 (ipykernel)",
   "language": "python",
   "name": "python3"
  },
  "language_info": {
   "codemirror_mode": {
    "name": "ipython",
    "version": 3
   },
   "file_extension": ".py",
   "mimetype": "text/x-python",
   "name": "python",
   "nbconvert_exporter": "python",
   "pygments_lexer": "ipython3",
   "version": "3.12.6"
  }
 },
 "nbformat": 4,
 "nbformat_minor": 5
}
