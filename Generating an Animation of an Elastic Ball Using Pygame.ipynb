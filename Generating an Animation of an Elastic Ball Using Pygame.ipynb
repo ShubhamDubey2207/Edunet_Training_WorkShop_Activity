{
 "cells": [
  {
   "cell_type": "code",
   "execution_count": null,
   "id": "dca8ecd1-7434-4ad8-b84e-da17f8afdd11",
   "metadata": {},
   "outputs": [],
   "source": [
    "\n",
    "import pygame\n",
    "import sys\n",
    "\n",
    "# Initialize Pygame\n",
    "pygame.init()\n",
    "\n",
    "# Screen dimensions\n",
    "width, height = 800, 600\n",
    "screen = pygame.display.set_mode((width, height))\n",
    "pygame.display.set_caption(\"Elastic Ball Animation\")\n",
    "\n",
    "# Colors\n",
    "white = (255, 255, 255)\n",
    "red = (255, 45, 0)\n",
    "\n",
    "# Ball properties\n",
    "ball_radius = 20\n",
    "ball_x = width // 2\n",
    "ball_y = ball_radius\n",
    "ball_speed_y = 0\n",
    "gravity = 0.5\n",
    "elasticity = 0.8\n",
    "\n",
    "# Main loop\n",
    "running = True\n",
    "while running:\n",
    "    for event in pygame.event.get():\n",
    "        if event.type == pygame.QUIT:\n",
    "            running = False\n",
    "\n",
    "    # Update ball position\n",
    "    ball_speed_y += gravity\n",
    "    ball_y += ball_speed_y\n",
    "\n",
    "    # Bounce the ball when it hits the ground\n",
    "    if ball_y + ball_radius > height:\n",
    "        ball_y = height - ball_radius\n",
    "        ball_speed_y = -ball_speed_y * elasticity\n",
    "\n",
    "    # Clear the screen\n",
    "    screen.fill(white)\n",
    "\n",
    "    # Draw the ball\n",
    "    pygame.draw.circle(screen, red, (ball_x, ball_y), ball_radius)\n",
    "\n",
    "    # Update the display\n",
    "    pygame.display.flip()\n",
    "\n",
    "    # Cap the frame rate\n",
    "    pygame.time.Clock().tick(60)\n",
    "\n",
    "# Quit Pygame\n",
    "pygame.quit()\n",
    "sys.exit()\n"
   ]
  },
  {
   "cell_type": "code",
   "execution_count": null,
   "id": "873e721e-d404-4c9e-b37c-54036b37ac4c",
   "metadata": {},
   "outputs": [],
   "source": [
    "pip install pygame"
   ]
  },
  {
   "cell_type": "code",
   "execution_count": null,
   "id": "39155b62-3e28-4025-9181-ae9e7c8b32d8",
   "metadata": {},
   "outputs": [],
   "source": [
    "#Task ------2"
   ]
  }
 ],
 "metadata": {
  "kernelspec": {
   "display_name": "Python 3 (ipykernel)",
   "language": "python",
   "name": "python3"
  },
  "language_info": {
   "codemirror_mode": {
    "name": "ipython",
    "version": 3
   },
   "file_extension": ".py",
   "mimetype": "text/x-python",
   "name": "python",
   "nbconvert_exporter": "python",
   "pygments_lexer": "ipython3",
   "version": "3.12.6"
  }
 },
 "nbformat": 4,
 "nbformat_minor": 5
}
