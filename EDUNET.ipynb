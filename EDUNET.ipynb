{
 "cells": [
  {
   "cell_type": "code",
   "execution_count": 1,
   "id": "1c3bd36b-5f00-4efb-a91d-a199dc44625e",
   "metadata": {},
   "outputs": [
    {
     "name": "stdout",
     "output_type": "stream",
     "text": [
      "Shubham Dubey\n"
     ]
    }
   ],
   "source": [
    "\n",
    "print(\"Shubham Dubey\")"
   ]
  },
  {
   "cell_type": "code",
   "execution_count": 2,
   "id": "0a04eb31-1280-4d80-b51a-d17a98c365c7",
   "metadata": {},
   "outputs": [
    {
     "name": "stdout",
     "output_type": "stream",
     "text": [
      "['False', 'None', 'True', 'and', 'as', 'assert', 'async', 'await', 'break', 'class', 'continue', 'def', 'del', 'elif', 'else', 'except', 'finally', 'for', 'from', 'global', 'if', 'import', 'in', 'is', 'lambda', 'nonlocal', 'not', 'or', 'pass', 'raise', 'return', 'try', 'while', 'with', 'yield']\n"
     ]
    }
   ],
   "source": [
    "import keyword\n",
    "print(keyword.kwlist)"
   ]
  },
  {
   "cell_type": "code",
   "execution_count": 4,
   "id": "c0e3d271-ce2c-41cb-a098-3a13ee883f0f",
   "metadata": {},
   "outputs": [
    {
     "data": {
      "text/plain": [
       "35"
      ]
     },
     "execution_count": 4,
     "metadata": {},
     "output_type": "execute_result"
    }
   ],
   "source": [
    "len(keyword.kwlist)"
   ]
  },
  {
   "cell_type": "code",
   "execution_count": 2,
   "id": "e30ee71e-a709-48bc-9ac2-82b39874be19",
   "metadata": {},
   "outputs": [
    {
     "name": "stdout",
     "output_type": "stream",
     "text": [
      "True\n"
     ]
    }
   ],
   "source": [
    "print(True)"
   ]
  },
  {
   "cell_type": "code",
   "execution_count": 5,
   "id": "f2dd49b7-f33a-44ec-8224-328fa4dd2992",
   "metadata": {},
   "outputs": [
    {
     "name": "stdout",
     "output_type": "stream",
     "text": [
      "2\n"
     ]
    }
   ],
   "source": [
    "a = True + True\n",
    "print(a)\n"
   ]
  },
  {
   "cell_type": "code",
   "execution_count": 11,
   "id": "c7ae4e1f-8b54-4b2c-9abc-dca15f0b147b",
   "metadata": {},
   "outputs": [
    {
     "name": "stdout",
     "output_type": "stream",
     "text": [
      "Status of city UTTar_Pradesh carbon_footprint 454.212\n"
     ]
    }
   ],
   "source": [
    "carbon_footprint = 454.212\n",
    "city = \"UTTar_Pradesh\"\n",
    "print(f\"Status of city {city} carbon_footprint {carbon_footprint}\")"
   ]
  },
  {
   "cell_type": "code",
   "execution_count": 13,
   "id": "9cf82d4c-b62a-4cdf-85e3-1cf71f549b22",
   "metadata": {},
   "outputs": [
    {
     "name": "stdout",
     "output_type": "stream",
     "text": [
      "1\n"
     ]
    }
   ],
   "source": [
    "a = True + True + False - True\n",
    "print(a)"
   ]
  },
  {
   "cell_type": "code",
   "execution_count": 15,
   "id": "8e49a039-c1fc-4c18-8ddf-04bce9269d82",
   "metadata": {},
   "outputs": [
    {
     "name": "stdin",
     "output_type": "stream",
     "text": [
      "Enter the name of city up\n",
      "Enter Your naam  shubham \n"
     ]
    },
    {
     "name": "stdout",
     "output_type": "stream",
     "text": [
      "Enter Details from the User up and shubham \n"
     ]
    }
   ],
   "source": [
    "name = input(\"Enter the name of city\")\n",
    "naam = input(\"Enter Your naam \")\n",
    "print(f\"Enter Details from the User {name} and {naam}\")"
   ]
  },
  {
   "cell_type": "code",
   "execution_count": 77,
   "id": "3b7b1c0c-1958-4fd6-b556-7e908af0e47c",
   "metadata": {},
   "outputs": [
    {
     "name": "stdin",
     "output_type": "stream",
     "text": [
      "Enter any value 2\n"
     ]
    },
    {
     "name": "stdout",
     "output_type": "stream",
     "text": [
      "2 <class 'int'>\n",
      "2 <class 'int'>\n",
      "2 <class 'int'>\n",
      "2 <class 'int'>\n",
      "2 <class 'int'>\n",
      "<class 'int'>\n"
     ]
    }
   ],
   "source": [
    "a = int(input(\"Enter any value\"))\n",
    "for i in range(5):\n",
    "    print(a , type(a))\n",
    "print(type(a))"
   ]
  },
  {
   "cell_type": "code",
   "execution_count": 26,
   "id": "03c77f02-fa98-4316-b902-b2f7abc1e0fe",
   "metadata": {},
   "outputs": [
    {
     "name": "stdout",
     "output_type": "stream",
     "text": [
      "UTTar_PradeshUTTar_PradeshUTTar_PradeshUTTar_PradeshUTTar_PradeshUTTar_PradeshUTTar_PradeshUTTar_PradeshUTTar_PradeshUTTar_Pradesh\n"
     ]
    }
   ],
   "source": [
    "print((city + \"\")*10)"
   ]
  },
  {
   "cell_type": "code",
   "execution_count": 29,
   "id": "760281e4-8503-4eb2-a360-2b6a9dca612a",
   "metadata": {},
   "outputs": [
    {
     "name": "stdout",
     "output_type": "stream",
     "text": [
      "['In', 'Out', '_', '_27', '__', '___', '__builtin__', '__builtins__', '__doc__', '__loader__', '__name__', '__package__', '__session__', '__spec__', '_dh', '_i', '_i1', '_i10', '_i11', '_i12', '_i13', '_i14', '_i15', '_i16', '_i17', '_i18', '_i19', '_i2', '_i20', '_i21', '_i22', '_i23', '_i24', '_i25', '_i26', '_i27', '_i28', '_i29', '_i3', '_i4', '_i5', '_i6', '_i7', '_i8', '_i9', '_ih', '_ii', '_iii', '_oh', 'a', 'carbon_footprint', 'city', 'exit', 'get_ipython', 'i', 'naam', 'name', 'open', 'quit']\n"
     ]
    }
   ],
   "source": [
    "print(dir())"
   ]
  },
  {
   "cell_type": "code",
   "execution_count": 31,
   "id": "27de5518-e280-4b9a-8458-ea0f7e924b76",
   "metadata": {},
   "outputs": [
    {
     "data": {
      "text/plain": [
       "'uttar_pradesh'"
      ]
     },
     "execution_count": 31,
     "metadata": {},
     "output_type": "execute_result"
    }
   ],
   "source": [
    "city.lower()"
   ]
  },
  {
   "cell_type": "code",
   "execution_count": 34,
   "id": "3673611d-98a9-483e-8f6b-2351fa70018f",
   "metadata": {},
   "outputs": [
    {
     "data": {
      "text/plain": [
       "'UTTAR_PRADESH'"
      ]
     },
     "execution_count": 34,
     "metadata": {},
     "output_type": "execute_result"
    }
   ],
   "source": [
    "city.upper()"
   ]
  },
  {
   "cell_type": "code",
   "execution_count": 35,
   "id": "183471ea-f73f-4a9b-ae3a-f851c1f7b2d2",
   "metadata": {},
   "outputs": [
    {
     "data": {
      "text/plain": [
       "['__add__',\n",
       " '__class__',\n",
       " '__contains__',\n",
       " '__delattr__',\n",
       " '__dir__',\n",
       " '__doc__',\n",
       " '__eq__',\n",
       " '__format__',\n",
       " '__ge__',\n",
       " '__getattribute__',\n",
       " '__getitem__',\n",
       " '__getnewargs__',\n",
       " '__getstate__',\n",
       " '__gt__',\n",
       " '__hash__',\n",
       " '__init__',\n",
       " '__init_subclass__',\n",
       " '__iter__',\n",
       " '__le__',\n",
       " '__len__',\n",
       " '__lt__',\n",
       " '__mod__',\n",
       " '__mul__',\n",
       " '__ne__',\n",
       " '__new__',\n",
       " '__reduce__',\n",
       " '__reduce_ex__',\n",
       " '__repr__',\n",
       " '__rmod__',\n",
       " '__rmul__',\n",
       " '__setattr__',\n",
       " '__sizeof__',\n",
       " '__str__',\n",
       " '__subclasshook__',\n",
       " 'capitalize',\n",
       " 'casefold',\n",
       " 'center',\n",
       " 'count',\n",
       " 'encode',\n",
       " 'endswith',\n",
       " 'expandtabs',\n",
       " 'find',\n",
       " 'format',\n",
       " 'format_map',\n",
       " 'index',\n",
       " 'isalnum',\n",
       " 'isalpha',\n",
       " 'isascii',\n",
       " 'isdecimal',\n",
       " 'isdigit',\n",
       " 'isidentifier',\n",
       " 'islower',\n",
       " 'isnumeric',\n",
       " 'isprintable',\n",
       " 'isspace',\n",
       " 'istitle',\n",
       " 'isupper',\n",
       " 'join',\n",
       " 'ljust',\n",
       " 'lower',\n",
       " 'lstrip',\n",
       " 'maketrans',\n",
       " 'partition',\n",
       " 'removeprefix',\n",
       " 'removesuffix',\n",
       " 'replace',\n",
       " 'rfind',\n",
       " 'rindex',\n",
       " 'rjust',\n",
       " 'rpartition',\n",
       " 'rsplit',\n",
       " 'rstrip',\n",
       " 'split',\n",
       " 'splitlines',\n",
       " 'startswith',\n",
       " 'strip',\n",
       " 'swapcase',\n",
       " 'title',\n",
       " 'translate',\n",
       " 'upper',\n",
       " 'zfill']"
      ]
     },
     "execution_count": 35,
     "metadata": {},
     "output_type": "execute_result"
    }
   ],
   "source": [
    "dir(city)"
   ]
  },
  {
   "cell_type": "code",
   "execution_count": 37,
   "id": "f41c42ee-9dfd-4984-ab33-2877c9afdeb0",
   "metadata": {},
   "outputs": [
    {
     "name": "stdout",
     "output_type": "stream",
     "text": [
      "['VARANASI', 'UTTAR_PADESH', 'KAJAHA', 'MAU']\n"
     ]
    }
   ],
   "source": [
    "city = [\"VARANASI\",\"UTTAR_PADESH\",\"KAJAHA\",\"MAU\"]\n",
    "print(city)"
   ]
  },
  {
   "cell_type": "code",
   "execution_count": 38,
   "id": "699f8296-efb5-47d5-ac81-63a9b3de66e7",
   "metadata": {},
   "outputs": [
    {
     "data": {
      "text/plain": [
       "['__add__',\n",
       " '__class__',\n",
       " '__class_getitem__',\n",
       " '__contains__',\n",
       " '__delattr__',\n",
       " '__delitem__',\n",
       " '__dir__',\n",
       " '__doc__',\n",
       " '__eq__',\n",
       " '__format__',\n",
       " '__ge__',\n",
       " '__getattribute__',\n",
       " '__getitem__',\n",
       " '__getstate__',\n",
       " '__gt__',\n",
       " '__hash__',\n",
       " '__iadd__',\n",
       " '__imul__',\n",
       " '__init__',\n",
       " '__init_subclass__',\n",
       " '__iter__',\n",
       " '__le__',\n",
       " '__len__',\n",
       " '__lt__',\n",
       " '__mul__',\n",
       " '__ne__',\n",
       " '__new__',\n",
       " '__reduce__',\n",
       " '__reduce_ex__',\n",
       " '__repr__',\n",
       " '__reversed__',\n",
       " '__rmul__',\n",
       " '__setattr__',\n",
       " '__setitem__',\n",
       " '__sizeof__',\n",
       " '__str__',\n",
       " '__subclasshook__',\n",
       " 'append',\n",
       " 'clear',\n",
       " 'copy',\n",
       " 'count',\n",
       " 'extend',\n",
       " 'index',\n",
       " 'insert',\n",
       " 'pop',\n",
       " 'remove',\n",
       " 'reverse',\n",
       " 'sort']"
      ]
     },
     "execution_count": 38,
     "metadata": {},
     "output_type": "execute_result"
    }
   ],
   "source": [
    "dir(city)"
   ]
  },
  {
   "cell_type": "code",
   "execution_count": 41,
   "id": "3c41572c-f13e-488a-b609-b2c0a30f84ed",
   "metadata": {},
   "outputs": [
    {
     "name": "stdout",
     "output_type": "stream",
     "text": [
      "['VARANASI', 'UTTAR_PADESH', 'KAJAHA', 'MAU', 'Shubham', 'Shubham', 'Shubham']\n"
     ]
    }
   ],
   "source": [
    "city.append(\"Shubham\")\n",
    "print(city)"
   ]
  },
  {
   "cell_type": "code",
   "execution_count": 54,
   "id": "1c531c6e-1daa-46d6-86ef-ba3897688d14",
   "metadata": {},
   "outputs": [
    {
     "name": "stdout",
     "output_type": "stream",
     "text": [
      "4\n"
     ]
    }
   ],
   "source": [
    "print(city.index(\"Shubham\"))"
   ]
  },
  {
   "cell_type": "code",
   "execution_count": 57,
   "id": "ba05d34d-3224-4227-a5d9-4cf2b5ebf5b5",
   "metadata": {},
   "outputs": [
    {
     "data": {
      "text/plain": [
       "['VARANASI',\n",
       " 'UTTAR_PADESH',\n",
       " 'KAJAHA',\n",
       " 'MAU',\n",
       " 'Shubham',\n",
       " 'Shubham',\n",
       " 'Shubham',\n",
       " 'VARANASI',\n",
       " 'UTTAR_PADESH',\n",
       " 'KAJAHA',\n",
       " 'MAU',\n",
       " 'Shubham',\n",
       " 'Shubham',\n",
       " 'Shubham',\n",
       " 'VARANASI',\n",
       " 'UTTAR_PADESH',\n",
       " 'KAJAHA',\n",
       " 'MAU',\n",
       " 'Shubham',\n",
       " 'Shubham',\n",
       " 'Shubham',\n",
       " 'VARANASI',\n",
       " 'UTTAR_PADESH',\n",
       " 'KAJAHA',\n",
       " 'MAU',\n",
       " 'Shubham',\n",
       " 'Shubham',\n",
       " 'Shubham',\n",
       " 'VARANASI',\n",
       " 'UTTAR_PADESH',\n",
       " 'KAJAHA',\n",
       " 'MAU',\n",
       " 'Shubham',\n",
       " 'Shubham',\n",
       " 'Shubham']"
      ]
     },
     "execution_count": 57,
     "metadata": {},
     "output_type": "execute_result"
    }
   ],
   "source": [
    "city *5"
   ]
  },
  {
   "cell_type": "code",
   "execution_count": 44,
   "id": "ef8fd1b5-a15b-47ff-b608-a656bc2c3e41",
   "metadata": {},
   "outputs": [
    {
     "data": {
      "text/plain": [
       "'VARANASI'"
      ]
     },
     "execution_count": 44,
     "metadata": {},
     "output_type": "execute_result"
    }
   ],
   "source": [
    "city[0]"
   ]
  },
  {
   "cell_type": "code",
   "execution_count": 45,
   "id": "79935495-0b0f-473b-b1ec-bebabe64d615",
   "metadata": {},
   "outputs": [
    {
     "data": {
      "text/plain": [
       "'Shubham'"
      ]
     },
     "execution_count": 45,
     "metadata": {},
     "output_type": "execute_result"
    }
   ],
   "source": [
    "city[-1]"
   ]
  },
  {
   "cell_type": "code",
   "execution_count": 46,
   "id": "109c7cde-a9b4-413b-9b78-7d31a47df48d",
   "metadata": {},
   "outputs": [
    {
     "data": {
      "text/plain": [
       "['VARANASI', 'UTTAR_PADESH', 'KAJAHA', 'MAU', 'Shubham', 'Shubham', 'Shubham']"
      ]
     },
     "execution_count": 46,
     "metadata": {},
     "output_type": "execute_result"
    }
   ],
   "source": [
    "#slicing operator\n",
    "city[:]"
   ]
  },
  {
   "cell_type": "code",
   "execution_count": 47,
   "id": "97e5cf7c-17a2-4094-b37e-6bfd282bc759",
   "metadata": {},
   "outputs": [
    {
     "data": {
      "text/plain": [
       "['VARANASI', 'UTTAR_PADESH', 'KAJAHA', 'MAU', 'Shubham']"
      ]
     },
     "execution_count": 47,
     "metadata": {},
     "output_type": "execute_result"
    }
   ],
   "source": [
    "city[0:5]"
   ]
  },
  {
   "cell_type": "code",
   "execution_count": 48,
   "id": "ba0a643c-6636-43d0-a939-0e99b7bc5af4",
   "metadata": {},
   "outputs": [
    {
     "data": {
      "text/plain": [
       "['VARANASI', 'KAJAHA', 'Shubham']"
      ]
     },
     "execution_count": 48,
     "metadata": {},
     "output_type": "execute_result"
    }
   ],
   "source": [
    "city[0:6:2]"
   ]
  },
  {
   "cell_type": "code",
   "execution_count": 59,
   "id": "756b8239-0b69-49b2-a386-f64b3baa5aef",
   "metadata": {},
   "outputs": [
    {
     "name": "stdout",
     "output_type": "stream",
     "text": [
      "('NGP', 'UP', 'AZm')\n"
     ]
    }
   ],
   "source": [
    "tup = (\"NGP\",\"UP\",\"AZm\")\n",
    "print(tup)"
   ]
  },
  {
   "cell_type": "code",
   "execution_count": 60,
   "id": "6169020b-ec1f-4671-9019-fe5422adb8bb",
   "metadata": {},
   "outputs": [
    {
     "name": "stdout",
     "output_type": "stream",
     "text": [
      "0\n"
     ]
    }
   ],
   "source": [
    "print(tup.index(\"NGP\"))"
   ]
  },
  {
   "cell_type": "code",
   "execution_count": 64,
   "id": "c3b9b3e6-7da0-4d5d-9af4-daf224264107",
   "metadata": {},
   "outputs": [
    {
     "name": "stdout",
     "output_type": "stream",
     "text": [
      "{'city': 'NGP', 'cf': 2154.25, 'temp': 38.21}\n"
     ]
    }
   ],
   "source": [
    "my_dict = { \"city\" : \"NGP\",\n",
    "\"cf\" : 2154.25,\n",
    "\"temp\" : 38.21\n",
    "}\n",
    "print(my_dict)"
   ]
  },
  {
   "cell_type": "code",
   "execution_count": 66,
   "id": "2c9991d0-2d33-4de4-8ef9-332fb1da070e",
   "metadata": {},
   "outputs": [
    {
     "data": {
      "text/plain": [
       "dict"
      ]
     },
     "execution_count": 66,
     "metadata": {},
     "output_type": "execute_result"
    }
   ],
   "source": [
    "type(my_dict)"
   ]
  },
  {
   "cell_type": "code",
   "execution_count": 68,
   "id": "d6695563-4009-46c4-b03e-641ed720a20f",
   "metadata": {},
   "outputs": [
    {
     "data": {
      "text/plain": [
       "2.0"
      ]
     },
     "execution_count": 68,
     "metadata": {},
     "output_type": "execute_result"
    }
   ],
   "source": [
    "4/2"
   ]
  },
  {
   "cell_type": "code",
   "execution_count": 69,
   "id": "a0e35ea9-4403-4bf8-b98b-b4e6b0200eaa",
   "metadata": {},
   "outputs": [
    {
     "data": {
      "text/plain": [
       "3"
      ]
     },
     "execution_count": 69,
     "metadata": {},
     "output_type": "execute_result"
    }
   ],
   "source": [
    "7//2"
   ]
  },
  {
   "cell_type": "code",
   "execution_count": 70,
   "id": "bac5a132-a05c-4ea8-9492-dc9cde38f4da",
   "metadata": {},
   "outputs": [
    {
     "data": {
      "text/plain": [
       "3.5"
      ]
     },
     "execution_count": 70,
     "metadata": {},
     "output_type": "execute_result"
    }
   ],
   "source": [
    "7/2"
   ]
  },
  {
   "cell_type": "code",
   "execution_count": 71,
   "id": "2fff7b81-0df9-41dd-9555-ad4f505bf8be",
   "metadata": {},
   "outputs": [
    {
     "data": {
      "text/plain": [
       "True"
      ]
     },
     "execution_count": 71,
     "metadata": {},
     "output_type": "execute_result"
    }
   ],
   "source": [
    "\"Shubham\" in city"
   ]
  },
  {
   "cell_type": "code",
   "execution_count": 72,
   "id": "47ceb410-bb0a-4a48-999e-6b5829dd3722",
   "metadata": {},
   "outputs": [
    {
     "data": {
      "text/plain": [
       "False"
      ]
     },
     "execution_count": 72,
     "metadata": {},
     "output_type": "execute_result"
    }
   ],
   "source": [
    "\"Shubham\" not in city"
   ]
  },
  {
   "cell_type": "code",
   "execution_count": 1,
   "id": "004578d6-bd0c-4f2a-86bf-e72ed9b29a3f",
   "metadata": {},
   "outputs": [
    {
     "name": "stdout",
     "output_type": "stream",
     "text": [
      "10 is greater\n",
      "inside for loop\n",
      "outside for loop \n"
     ]
    }
   ],
   "source": [
    "if 10 >0:\n",
    "    print(\"10 is greater\")\n",
    "    print(\"inside for loop\")\n",
    "print(\"outside for loop \")"
   ]
  },
  {
   "cell_type": "code",
   "execution_count": 2,
   "id": "12723e98-da5e-4f18-978a-1cd69176e3d5",
   "metadata": {},
   "outputs": [
    {
     "name": "stdout",
     "output_type": "stream",
     "text": [
      "outside for loop \n"
     ]
    }
   ],
   "source": [
    "if 0 >10:\n",
    "    print(\"10 is greater\")\n",
    "    print(\"inside for loop\")\n",
    "print(\"outside for loop \")"
   ]
  },
  {
   "cell_type": "code",
   "execution_count": 3,
   "id": "c3c2d195-90c5-4a90-90e5-2bd7ab44ff51",
   "metadata": {},
   "outputs": [
    {
     "name": "stdout",
     "output_type": "stream",
     "text": [
      "10 is greater\n",
      "inside for loop\n"
     ]
    }
   ],
   "source": [
    "if 0 <10:\n",
    "    print(\"10 is greater\")\n",
    "    print(\"inside for loop\")\n",
    "else:\n",
    "    print(\"outside for loop \")\n",
    "   \n"
   ]
  },
  {
   "cell_type": "code",
   "execution_count": 11,
   "id": "b64e0c28-8589-4a68-90f5-2a4852e8e964",
   "metadata": {},
   "outputs": [
    {
     "name": "stdin",
     "output_type": "stream",
     "text": [
      "Enter the rate per hour RS  25\n",
      "Ente rthe number of hours 25\n"
     ]
    },
    {
     "name": "stdout",
     "output_type": "stream",
     "text": [
      "Total Gross Pay625\n"
     ]
    }
   ],
   "source": [
    "#write a program take input from user rate per hour and and hours\n",
    "#Gross Pay\n",
    "r = int(input(f\"Enter the rate per hour RS \"))\n",
    "h = int(input(\"Ente rthe number of hours\"))\n",
    "s = r*h\n",
    "print(f\"Total Gross Pay{s}\")"
   ]
  },
  {
   "cell_type": "code",
   "execution_count": 24,
   "id": "fc7f62c4-aac7-4335-8146-8c53f61e4afd",
   "metadata": {},
   "outputs": [
    {
     "name": "stdin",
     "output_type": "stream",
     "text": [
      "Enter the rate per hour (Rs):  10\n",
      "Enter the number of hours worked:  45\n"
     ]
    },
    {
     "name": "stdout",
     "output_type": "stream",
     "text": [
      "Overtime Pay (Extra Rs): 56.25\n",
      "Total Gross Pay: Rs 456.25\n"
     ]
    }
   ],
   "source": [
    "# Write a program to take input from user: rate per hour and number of hours worked\n",
    "# Gross Pay includes rate increase (1.25x) for overtime (more than 40 hours)\n",
    "\n",
    "# Taking inputs\n",
    "r = float(input(\"Enter the rate per hour (Rs): \"))\n",
    "h = float(input(\"Enter the number of hours worked: \"))\n",
    "\n",
    "# Calculating gross pay\n",
    "if h > 40:\n",
    "    regular_pay = 40 * r\n",
    "    overtime_hours = h - 40\n",
    "    overtime_pay = overtime_hours * r * 1.125\n",
    "    gross_pay = regular_pay + overtime_pay\n",
    "    print(f\"Overtime Pay (Extra Rs): {overtime_pay:.2f}\")\n",
    "else:\n",
    "    gross_pay = h * r\n",
    "\n",
    "# Output\n",
    "print(f\"Total Gross Pay: Rs {gross_pay:.2f}\")\n"
   ]
  },
  {
   "cell_type": "code",
   "execution_count": 29,
   "id": "c4054de0-8a97-4a59-8dd7-bf4a4d68f6e3",
   "metadata": {},
   "outputs": [
    {
     "name": "stdout",
     "output_type": "stream",
     "text": [
      "RADHE\n",
      "RADHE\n",
      "RADHE\n",
      "RADHE\n",
      "RADHE\n",
      "RADHE\n",
      "RADHE\n",
      "RADHE\n",
      "RADHE\n",
      "RADHE\n",
      "RADHE\n"
     ]
    }
   ],
   "source": [
    "for i in range(11):\n",
    "    print(\"RADHE\")\n",
    "\n"
   ]
  },
  {
   "cell_type": "code",
   "execution_count": 30,
   "id": "5347a225-0e63-4f15-9dbe-4a015983f608",
   "metadata": {},
   "outputs": [
    {
     "name": "stdout",
     "output_type": "stream",
     "text": [
      "R\n",
      "A\n",
      "D\n",
      "H\n",
      "E\n"
     ]
    }
   ],
   "source": [
    "for char in \"RADHE\":\n",
    "    print(char)"
   ]
  },
  {
   "cell_type": "code",
   "execution_count": 32,
   "id": "30382be9-89b9-4a2b-b9c8-6c1840f2337b",
   "metadata": {
    "scrolled": true
   },
   "outputs": [
    {
     "name": "stdout",
     "output_type": "stream",
     "text": [
      "0\n",
      "1\n",
      "2\n",
      "3\n",
      "4\n",
      "5\n",
      "6\n",
      "7\n",
      "8\n",
      "9\n",
      "10\n",
      "11\n",
      "12\n",
      "13\n",
      "14\n",
      "15\n",
      "16\n",
      "17\n",
      "18\n",
      "19\n",
      "20\n",
      "21\n",
      "22\n",
      "23\n",
      "24\n",
      "25\n",
      "26\n",
      "27\n",
      "28\n",
      "29\n",
      "30\n",
      "31\n",
      "32\n",
      "33\n",
      "34\n",
      "35\n",
      "36\n",
      "37\n",
      "38\n",
      "39\n",
      "40\n",
      "41\n",
      "42\n",
      "43\n",
      "44\n",
      "45\n",
      "46\n",
      "47\n",
      "48\n",
      "49\n",
      "50\n",
      "51\n",
      "52\n",
      "53\n",
      "54\n",
      "55\n",
      "56\n",
      "57\n",
      "58\n",
      "59\n",
      "60\n",
      "61\n",
      "62\n",
      "63\n",
      "64\n",
      "65\n",
      "66\n",
      "67\n",
      "68\n",
      "69\n",
      "70\n",
      "71\n",
      "72\n",
      "73\n",
      "74\n",
      "75\n",
      "76\n",
      "77\n",
      "78\n",
      "79\n",
      "80\n",
      "81\n",
      "82\n",
      "83\n",
      "84\n",
      "85\n",
      "86\n",
      "87\n",
      "88\n",
      "89\n",
      "90\n",
      "91\n",
      "92\n",
      "93\n",
      "94\n",
      "95\n",
      "96\n",
      "97\n",
      "98\n",
      "99\n",
      "100\n",
      "101\n",
      "102\n",
      "103\n",
      "104\n",
      "105\n",
      "106\n",
      "107\n",
      "108\n",
      "109\n",
      "110\n",
      "111\n",
      "112\n",
      "113\n",
      "114\n",
      "115\n",
      "116\n",
      "117\n",
      "118\n",
      "119\n",
      "120\n",
      "121\n",
      "122\n",
      "123\n",
      "124\n",
      "125\n",
      "126\n",
      "127\n",
      "128\n",
      "129\n",
      "130\n",
      "131\n",
      "132\n",
      "133\n",
      "134\n",
      "135\n",
      "136\n",
      "137\n",
      "138\n",
      "139\n",
      "140\n",
      "141\n",
      "142\n",
      "143\n",
      "144\n",
      "145\n",
      "146\n",
      "147\n",
      "148\n",
      "149\n",
      "150\n",
      "151\n",
      "152\n",
      "153\n",
      "154\n",
      "155\n",
      "156\n",
      "157\n",
      "158\n",
      "159\n",
      "160\n",
      "161\n",
      "162\n",
      "163\n",
      "164\n",
      "165\n",
      "166\n",
      "167\n",
      "168\n",
      "169\n",
      "170\n",
      "171\n",
      "172\n",
      "173\n",
      "174\n",
      "175\n",
      "176\n",
      "177\n",
      "178\n",
      "179\n",
      "180\n",
      "181\n",
      "182\n",
      "183\n",
      "184\n",
      "185\n",
      "186\n",
      "187\n",
      "188\n",
      "189\n",
      "190\n",
      "191\n",
      "192\n",
      "193\n",
      "194\n",
      "195\n",
      "196\n",
      "197\n",
      "198\n",
      "199\n",
      "200\n",
      "201\n",
      "202\n",
      "203\n",
      "204\n",
      "205\n",
      "206\n",
      "207\n",
      "208\n",
      "209\n",
      "210\n",
      "211\n",
      "212\n",
      "213\n",
      "214\n",
      "215\n",
      "216\n",
      "217\n",
      "218\n",
      "219\n",
      "220\n",
      "221\n",
      "222\n",
      "223\n",
      "224\n",
      "225\n",
      "226\n",
      "227\n",
      "228\n",
      "229\n",
      "230\n",
      "231\n",
      "232\n",
      "233\n",
      "234\n",
      "235\n",
      "236\n",
      "237\n",
      "238\n",
      "239\n",
      "240\n",
      "241\n",
      "242\n",
      "243\n",
      "244\n",
      "245\n",
      "246\n",
      "247\n",
      "248\n",
      "249\n",
      "250\n",
      "251\n",
      "252\n",
      "253\n",
      "254\n",
      "255\n",
      "256\n",
      "257\n",
      "258\n",
      "259\n",
      "260\n",
      "261\n",
      "262\n",
      "263\n",
      "264\n",
      "265\n",
      "266\n",
      "267\n",
      "268\n",
      "269\n",
      "270\n",
      "271\n",
      "272\n",
      "273\n",
      "274\n",
      "275\n",
      "276\n",
      "277\n",
      "278\n",
      "279\n",
      "280\n",
      "281\n",
      "282\n",
      "283\n",
      "284\n",
      "285\n",
      "286\n",
      "287\n",
      "288\n",
      "289\n",
      "290\n",
      "291\n",
      "292\n",
      "293\n",
      "294\n",
      "295\n",
      "296\n",
      "297\n",
      "298\n",
      "299\n",
      "300\n",
      "301\n",
      "302\n",
      "303\n",
      "304\n",
      "305\n",
      "306\n",
      "307\n",
      "308\n",
      "309\n",
      "310\n",
      "311\n",
      "312\n",
      "313\n",
      "314\n",
      "315\n",
      "316\n",
      "317\n",
      "318\n",
      "319\n",
      "320\n",
      "321\n",
      "322\n",
      "323\n",
      "324\n",
      "325\n",
      "326\n",
      "327\n",
      "328\n",
      "329\n",
      "330\n",
      "331\n",
      "332\n",
      "333\n",
      "334\n",
      "335\n",
      "336\n",
      "337\n",
      "338\n",
      "339\n",
      "340\n",
      "341\n",
      "342\n",
      "343\n",
      "344\n",
      "345\n",
      "346\n",
      "347\n",
      "348\n",
      "349\n",
      "350\n",
      "351\n",
      "352\n",
      "353\n",
      "354\n",
      "355\n",
      "356\n",
      "357\n",
      "358\n",
      "359\n",
      "360\n",
      "361\n",
      "362\n",
      "363\n",
      "364\n",
      "365\n",
      "366\n",
      "367\n",
      "368\n",
      "369\n",
      "370\n",
      "371\n",
      "372\n",
      "373\n",
      "374\n",
      "375\n",
      "376\n",
      "377\n",
      "378\n",
      "379\n",
      "380\n",
      "381\n",
      "382\n",
      "383\n",
      "384\n",
      "385\n",
      "386\n",
      "387\n",
      "388\n",
      "389\n",
      "390\n",
      "391\n",
      "392\n",
      "393\n",
      "394\n",
      "395\n",
      "396\n",
      "397\n",
      "398\n",
      "399\n",
      "400\n",
      "401\n",
      "402\n",
      "403\n",
      "404\n",
      "405\n",
      "406\n",
      "407\n",
      "408\n",
      "409\n",
      "410\n",
      "411\n",
      "412\n",
      "413\n",
      "414\n",
      "415\n",
      "416\n",
      "417\n",
      "418\n",
      "419\n",
      "420\n",
      "421\n",
      "422\n",
      "423\n",
      "424\n",
      "425\n",
      "426\n",
      "427\n",
      "428\n",
      "429\n",
      "430\n",
      "431\n",
      "432\n",
      "433\n",
      "434\n",
      "435\n",
      "436\n",
      "437\n",
      "438\n",
      "439\n",
      "440\n",
      "441\n",
      "442\n",
      "443\n",
      "444\n",
      "445\n",
      "446\n",
      "447\n",
      "448\n",
      "449\n",
      "450\n",
      "451\n",
      "452\n",
      "453\n",
      "454\n",
      "455\n",
      "456\n",
      "457\n",
      "458\n",
      "459\n",
      "460\n",
      "461\n",
      "462\n",
      "463\n",
      "464\n",
      "465\n",
      "466\n",
      "467\n",
      "468\n",
      "469\n",
      "470\n",
      "471\n",
      "472\n",
      "473\n",
      "474\n",
      "475\n",
      "476\n",
      "477\n",
      "478\n",
      "479\n",
      "480\n",
      "481\n",
      "482\n",
      "483\n",
      "484\n",
      "485\n",
      "486\n",
      "487\n",
      "488\n",
      "489\n",
      "490\n",
      "491\n",
      "492\n",
      "493\n",
      "494\n",
      "495\n",
      "496\n",
      "497\n",
      "498\n",
      "499\n",
      "500\n",
      "501\n",
      "502\n",
      "503\n",
      "504\n",
      "505\n",
      "506\n",
      "507\n",
      "508\n",
      "509\n",
      "510\n",
      "511\n",
      "512\n",
      "513\n",
      "514\n",
      "515\n",
      "516\n",
      "517\n",
      "518\n",
      "519\n",
      "520\n",
      "521\n",
      "522\n",
      "523\n",
      "524\n",
      "525\n",
      "526\n",
      "527\n",
      "528\n",
      "529\n",
      "530\n",
      "531\n",
      "532\n",
      "533\n",
      "534\n",
      "535\n",
      "536\n",
      "537\n",
      "538\n",
      "539\n",
      "540\n",
      "541\n",
      "542\n",
      "543\n",
      "544\n",
      "545\n",
      "546\n",
      "547\n",
      "548\n",
      "549\n",
      "550\n",
      "551\n",
      "552\n",
      "553\n",
      "554\n",
      "555\n",
      "556\n",
      "557\n",
      "558\n",
      "559\n",
      "560\n",
      "561\n",
      "562\n",
      "563\n",
      "564\n",
      "565\n",
      "566\n",
      "567\n",
      "568\n",
      "569\n",
      "570\n",
      "571\n",
      "572\n",
      "573\n",
      "574\n",
      "575\n",
      "576\n",
      "577\n",
      "578\n",
      "579\n",
      "580\n",
      "581\n",
      "582\n",
      "583\n",
      "584\n",
      "585\n",
      "586\n",
      "587\n",
      "588\n",
      "589\n",
      "590\n",
      "591\n",
      "592\n",
      "593\n",
      "594\n",
      "595\n",
      "596\n",
      "597\n",
      "598\n",
      "599\n",
      "600\n",
      "601\n",
      "602\n",
      "603\n",
      "604\n",
      "605\n",
      "606\n",
      "607\n",
      "608\n",
      "609\n",
      "610\n",
      "611\n",
      "612\n",
      "613\n",
      "614\n",
      "615\n",
      "616\n",
      "617\n",
      "618\n",
      "619\n",
      "620\n",
      "621\n",
      "622\n",
      "623\n",
      "624\n",
      "625\n",
      "626\n",
      "627\n",
      "628\n",
      "629\n",
      "630\n",
      "631\n",
      "632\n",
      "633\n",
      "634\n",
      "635\n",
      "636\n",
      "637\n",
      "638\n",
      "639\n",
      "640\n",
      "641\n",
      "642\n",
      "643\n",
      "644\n",
      "645\n",
      "646\n",
      "647\n",
      "648\n",
      "649\n",
      "650\n",
      "651\n",
      "652\n",
      "653\n",
      "654\n",
      "655\n",
      "656\n",
      "657\n",
      "658\n",
      "659\n",
      "660\n",
      "661\n",
      "662\n",
      "663\n",
      "664\n",
      "665\n",
      "666\n",
      "667\n",
      "668\n",
      "669\n",
      "670\n",
      "671\n",
      "672\n",
      "673\n",
      "674\n",
      "675\n",
      "676\n",
      "677\n",
      "678\n",
      "679\n",
      "680\n",
      "681\n",
      "682\n",
      "683\n",
      "684\n",
      "685\n",
      "686\n",
      "687\n",
      "688\n",
      "689\n",
      "690\n",
      "691\n",
      "692\n",
      "693\n",
      "694\n",
      "695\n",
      "696\n",
      "697\n",
      "698\n",
      "699\n",
      "700\n",
      "701\n",
      "702\n",
      "703\n",
      "704\n",
      "705\n",
      "706\n",
      "707\n",
      "708\n",
      "709\n",
      "710\n",
      "711\n",
      "712\n",
      "713\n",
      "714\n",
      "715\n",
      "716\n",
      "717\n",
      "718\n",
      "719\n",
      "720\n",
      "721\n",
      "722\n",
      "723\n",
      "724\n",
      "725\n",
      "726\n",
      "727\n",
      "728\n",
      "729\n",
      "730\n",
      "731\n",
      "732\n",
      "733\n",
      "734\n",
      "735\n",
      "736\n",
      "737\n",
      "738\n",
      "739\n",
      "740\n",
      "741\n",
      "742\n",
      "743\n",
      "744\n",
      "745\n",
      "746\n",
      "747\n",
      "748\n",
      "749\n",
      "750\n",
      "751\n",
      "752\n",
      "753\n",
      "754\n",
      "755\n",
      "756\n",
      "757\n",
      "758\n",
      "759\n",
      "760\n",
      "761\n",
      "762\n",
      "763\n",
      "764\n",
      "765\n",
      "766\n",
      "767\n",
      "768\n",
      "769\n",
      "770\n",
      "771\n",
      "772\n",
      "773\n",
      "774\n",
      "775\n",
      "776\n",
      "777\n",
      "778\n",
      "779\n",
      "780\n",
      "781\n",
      "782\n",
      "783\n",
      "784\n",
      "785\n",
      "786\n",
      "787\n",
      "788\n",
      "789\n",
      "790\n",
      "791\n",
      "792\n",
      "793\n",
      "794\n",
      "795\n",
      "796\n",
      "797\n",
      "798\n",
      "799\n",
      "800\n",
      "801\n",
      "802\n",
      "803\n",
      "804\n",
      "805\n",
      "806\n",
      "807\n",
      "808\n",
      "809\n",
      "810\n",
      "811\n",
      "812\n",
      "813\n",
      "814\n",
      "815\n",
      "816\n",
      "817\n",
      "818\n",
      "819\n",
      "820\n",
      "821\n",
      "822\n",
      "823\n",
      "824\n",
      "825\n",
      "826\n",
      "827\n",
      "828\n",
      "829\n",
      "830\n",
      "831\n",
      "832\n",
      "833\n",
      "834\n",
      "835\n",
      "836\n",
      "837\n",
      "838\n",
      "839\n",
      "840\n",
      "841\n",
      "842\n",
      "843\n",
      "844\n",
      "845\n",
      "846\n",
      "847\n",
      "848\n",
      "849\n",
      "850\n",
      "851\n",
      "852\n",
      "853\n",
      "854\n",
      "855\n",
      "856\n",
      "857\n",
      "858\n",
      "859\n",
      "860\n",
      "861\n",
      "862\n",
      "863\n",
      "864\n",
      "865\n",
      "866\n",
      "867\n",
      "868\n",
      "869\n",
      "870\n",
      "871\n",
      "872\n",
      "873\n",
      "874\n",
      "875\n",
      "876\n",
      "877\n",
      "878\n",
      "879\n",
      "880\n",
      "881\n",
      "882\n",
      "883\n",
      "884\n",
      "885\n",
      "886\n",
      "887\n",
      "888\n",
      "889\n",
      "890\n",
      "891\n",
      "892\n",
      "893\n",
      "894\n",
      "895\n",
      "896\n",
      "897\n",
      "898\n",
      "899\n",
      "900\n",
      "901\n",
      "902\n",
      "903\n",
      "904\n",
      "905\n",
      "906\n",
      "907\n",
      "908\n",
      "909\n",
      "910\n",
      "911\n",
      "912\n",
      "913\n",
      "914\n",
      "915\n",
      "916\n",
      "917\n",
      "918\n",
      "919\n",
      "920\n",
      "921\n",
      "922\n",
      "923\n",
      "924\n",
      "925\n",
      "926\n",
      "927\n",
      "928\n",
      "929\n",
      "930\n",
      "931\n",
      "932\n",
      "933\n",
      "934\n",
      "935\n",
      "936\n",
      "937\n",
      "938\n",
      "939\n",
      "940\n",
      "941\n",
      "942\n",
      "943\n",
      "944\n",
      "945\n",
      "946\n",
      "947\n",
      "948\n",
      "949\n",
      "950\n",
      "951\n",
      "952\n",
      "953\n",
      "954\n",
      "955\n",
      "956\n",
      "957\n",
      "958\n",
      "959\n",
      "960\n",
      "961\n",
      "962\n",
      "963\n",
      "964\n",
      "965\n",
      "966\n",
      "967\n",
      "968\n",
      "969\n",
      "970\n",
      "971\n",
      "972\n",
      "973\n",
      "974\n",
      "975\n",
      "976\n",
      "977\n",
      "978\n",
      "979\n",
      "980\n",
      "981\n",
      "982\n",
      "983\n",
      "984\n",
      "985\n",
      "986\n",
      "987\n",
      "988\n",
      "989\n",
      "990\n",
      "991\n",
      "992\n",
      "993\n",
      "994\n",
      "995\n",
      "996\n",
      "997\n",
      "998\n",
      "999\n"
     ]
    }
   ],
   "source": [
    "for i in range(1000):\n",
    "    print(i)"
   ]
  },
  {
   "cell_type": "code",
   "execution_count": 33,
   "id": "3f50766e-fc44-4e77-8960-5abc1da6fb16",
   "metadata": {},
   "outputs": [
    {
     "name": "stdout",
     "output_type": "stream",
     "text": [
      "1\n",
      "3\n",
      "5\n",
      "7\n",
      "9\n",
      "11\n",
      "13\n",
      "15\n",
      "17\n",
      "19\n"
     ]
    }
   ],
   "source": [
    "for i in range (1,20,2):\n",
    "    print(i)"
   ]
  },
  {
   "cell_type": "code",
   "execution_count": 35,
   "id": "1d27084f-4f39-4997-9e5b-c6640004d970",
   "metadata": {},
   "outputs": [
    {
     "name": "stdout",
     "output_type": "stream",
     "text": [
      "1000\n"
     ]
    }
   ],
   "source": [
    "#Sum without function\n",
    "\n",
    "sum = 0\n",
    "for city in [100,500,400]:\n",
    "    sum = sum + city\n",
    "print(sum)"
   ]
  },
  {
   "cell_type": "code",
   "execution_count": 38,
   "id": "e720a836-517a-43d5-a468-827264f41da0",
   "metadata": {},
   "outputs": [
    {
     "name": "stdout",
     "output_type": "stream",
     "text": [
      "1000\n",
      "Avergafe 333.3333333333333\n"
     ]
    }
   ],
   "source": [
    "#Average  without function\n",
    "\n",
    "sum = 0\n",
    "count = 0\n",
    "for city in [100,500,400]:\n",
    "    sum = sum + city\n",
    "    count +=1\n",
    "print(sum)\n",
    "print(f\"Avergafe {sum/count}\")"
   ]
  },
  {
   "cell_type": "code",
   "execution_count": 41,
   "id": "4aa466d9-2d61-407f-b08b-74ba8c95f05f",
   "metadata": {},
   "outputs": [
    {
     "name": "stdout",
     "output_type": "stream",
     "text": [
      "0\n",
      "1\n",
      "2\n",
      "3\n",
      "4\n",
      "Outside Loop\n"
     ]
    }
   ],
   "source": [
    "count = 0\n",
    "while count < 5:\n",
    "    print(count)\n",
    "    count +=1\n",
    "print(\"Outside Loop\")"
   ]
  },
  {
   "cell_type": "code",
   "execution_count": 2,
   "id": "77d5d68f-c1ca-4b13-a24f-d64f0ba15e94",
   "metadata": {},
   "outputs": [
    {
     "name": "stdin",
     "output_type": "stream",
     "text": [
      "Enter the Input:  sh\n"
     ]
    },
    {
     "name": "stdout",
     "output_type": "stream",
     "text": [
      "sh\n"
     ]
    },
    {
     "name": "stdin",
     "output_type": "stream",
     "text": [
      "Enter the Input:  sg\n"
     ]
    },
    {
     "name": "stdout",
     "output_type": "stream",
     "text": [
      "sg\n"
     ]
    },
    {
     "name": "stdin",
     "output_type": "stream",
     "text": [
      "Enter the Input:  sg\n"
     ]
    },
    {
     "name": "stdout",
     "output_type": "stream",
     "text": [
      "sg\n"
     ]
    },
    {
     "name": "stdin",
     "output_type": "stream",
     "text": [
      "Enter the Input:  quit\n"
     ]
    },
    {
     "name": "stdout",
     "output_type": "stream",
     "text": [
      "GameOver\n"
     ]
    }
   ],
   "source": [
    "a = input(\"Enter the Input: \")\n",
    "while a != \"quit\":  # Corrected \"quite\" to \"quit\"\n",
    "    print(a)\n",
    "    a = input(\"Enter the Input: \")  # Added input inside loop to allow the user to update the value\n",
    "print(\"GameOver\")"
   ]
  },
  {
   "cell_type": "code",
   "execution_count": 3,
   "id": "3b70e92b-a17b-42a0-bd98-9f559e1d621c",
   "metadata": {},
   "outputs": [
    {
     "name": "stdout",
     "output_type": "stream",
     "text": [
      "Hello HP\n"
     ]
    }
   ],
   "source": [
    "#Function About \n",
    "def shubham():\n",
    "    print(\"Hello HP\")\n",
    "shubham()"
   ]
  },
  {
   "cell_type": "code",
   "execution_count": 5,
   "id": "95486022-cd0b-494c-8aaf-c7ad234a4acf",
   "metadata": {},
   "outputs": [
    {
     "name": "stdin",
     "output_type": "stream",
     "text": [
      "Enter the rate per hour RS  10\n",
      "Ente rthe number of hours 25\n"
     ]
    },
    {
     "name": "stdout",
     "output_type": "stream",
     "text": [
      "Total Gross Pay RS : 250\n"
     ]
    }
   ],
   "source": [
    "def pay_cum():\n",
    "    r = int(input(f\"Enter the rate per hour RS \"))\n",
    "    h = int(input(\"Ente rthe number of hours\"))\n",
    "    s = r*h\n",
    "    print(f\"Total Gross Pay RS : {s}\")\n",
    "pay_cum()"
   ]
  },
  {
   "cell_type": "code",
   "execution_count": 10,
   "id": "6493f399-8934-45b3-bdb8-b2731ae1ceff",
   "metadata": {},
   "outputs": [
    {
     "data": {
      "text/plain": [
       "30"
      ]
     },
     "execution_count": 10,
     "metadata": {},
     "output_type": "execute_result"
    }
   ],
   "source": [
    "def sum(a,b):\n",
    "    sum = a + b\n",
    "    return sum\n",
    "sum(5,25) # Position Argument 5 , 25"
   ]
  },
  {
   "cell_type": "code",
   "execution_count": 11,
   "id": "bcc2b733-6745-4aa8-9c12-50b5321c3735",
   "metadata": {},
   "outputs": [
    {
     "data": {
      "text/plain": [
       "30"
      ]
     },
     "execution_count": 11,
     "metadata": {},
     "output_type": "execute_result"
    }
   ],
   "source": [
    "def sum(a,b):\n",
    "    sum = a + b\n",
    "    return sum\n",
    "sum(b=5,a=25) # Key word Argument 5 , 25"
   ]
  },
  {
   "cell_type": "code",
   "execution_count": 12,
   "id": "aa28a167-4b1e-46f4-853c-cf7274e91751",
   "metadata": {},
   "outputs": [
    {
     "data": {
      "text/plain": [
       "40"
      ]
     },
     "execution_count": 12,
     "metadata": {},
     "output_type": "execute_result"
    }
   ],
   "source": [
    "#default Argument\n",
    "def add(a,b,c=5):\n",
    "    sum = a+b+c\n",
    "    return sum\n",
    "add(10,25)"
   ]
  },
  {
   "cell_type": "code",
   "execution_count": 14,
   "id": "2ae13519-990c-4004-9b28-6d94674d9137",
   "metadata": {},
   "outputs": [
    {
     "data": {
      "text/plain": [
       "30"
      ]
     },
     "execution_count": 14,
     "metadata": {},
     "output_type": "execute_result"
    }
   ],
   "source": [
    "#default Argument\n",
    "def add(a,b,c=5):\n",
    "    sum = a+b+c\n",
    "    return sum\n",
    "add(10,5,15)"
   ]
  },
  {
   "cell_type": "code",
   "execution_count": 17,
   "id": "11394cc4-3e37-41b1-9fae-2e9ddcd9be14",
   "metadata": {},
   "outputs": [
    {
     "name": "stdout",
     "output_type": "stream",
     "text": [
      "Hello Shubham\n",
      "Hello Dubey\n"
     ]
    }
   ],
   "source": [
    "#Variable Lenght Argument\n",
    "\n",
    "def var(*names):\n",
    "    for name in names:\n",
    "        print(f\"Hello {name}\")\n",
    "    \n",
    "var(\"Shubham\",\"Dubey\")\n"
   ]
  },
  {
   "cell_type": "code",
   "execution_count": 21,
   "id": "c7d9e588-6d6d-4ba3-9f4e-837e39402f83",
   "metadata": {},
   "outputs": [
    {
     "name": "stdin",
     "output_type": "stream",
     "text": [
      "Enter multiple values separated by spaces:  shubham dubey hello\n"
     ]
    },
    {
     "name": "stdout",
     "output_type": "stream",
     "text": [
      "['shubham', 'dubey', 'hello']\n"
     ]
    }
   ],
   "source": [
    "values = input(\"Enter multiple values separated by spaces: \").split()\n",
    "print(values)\n"
   ]
  },
  {
   "cell_type": "code",
   "execution_count": 23,
   "id": "1e0b1d00-c6fe-428d-9291-5b13cec0fa9b",
   "metadata": {},
   "outputs": [
    {
     "name": "stdout",
     "output_type": "stream",
     "text": [
      "Hello ['shubham', 'dubey', 'shbsh', 'shshkk', 'sh']\n"
     ]
    }
   ],
   "source": [
    "\n",
    "def var(*names):\n",
    "    for name in names:\n",
    "        print(f\"Hello {name}\")\n",
    "    \n",
    "var(values)\n"
   ]
  },
  {
   "cell_type": "code",
   "execution_count": 24,
   "id": "b4d1516e-50d5-46a9-8497-36b305736b0f",
   "metadata": {},
   "outputs": [
    {
     "name": "stdout",
     "output_type": "stream",
     "text": [
      "15\n"
     ]
    }
   ],
   "source": [
    "#Lambda function \n",
    "x = lambda a:a+10\n",
    "print(x(5))"
   ]
  },
  {
   "cell_type": "code",
   "execution_count": 27,
   "id": "dbf39293-1156-4e9c-a736-b9cb8d0aa2b6",
   "metadata": {},
   "outputs": [
    {
     "name": "stdout",
     "output_type": "stream",
     "text": [
      "7\n"
     ]
    }
   ],
   "source": [
    "add = lambda x,y : x+y\n",
    "print(add(2,5))"
   ]
  },
  {
   "cell_type": "code",
   "execution_count": 26,
   "id": "cd0b65b0-eb58-4afc-a323-376c3b87dbcf",
   "metadata": {},
   "outputs": [
    {
     "name": "stdout",
     "output_type": "stream",
     "text": [
      "30\n"
     ]
    }
   ],
   "source": [
    "momentum = lambda m,y : m*y\n",
    "print(momentum(6,5))"
   ]
  },
  {
   "cell_type": "code",
   "execution_count": null,
   "id": "124d332f-4137-4b5e-aabb-d0c69fe8176e",
   "metadata": {},
   "outputs": [],
   "source": [
    "#Creat a String variable store city name "
   ]
  }
 ],
 "metadata": {
  "kernelspec": {
   "display_name": "Python 3 (ipykernel)",
   "language": "python",
   "name": "python3"
  },
  "language_info": {
   "codemirror_mode": {
    "name": "ipython",
    "version": 3
   },
   "file_extension": ".py",
   "mimetype": "text/x-python",
   "name": "python",
   "nbconvert_exporter": "python",
   "pygments_lexer": "ipython3",
   "version": "3.12.6"
  }
 },
 "nbformat": 4,
 "nbformat_minor": 5
}
